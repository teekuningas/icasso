{
  "cells": [
    {
      "cell_type": "code",
      "execution_count": null,
      "metadata": {
        "collapsed": false
      },
      "outputs": [],
      "source": [
        "%matplotlib inline"
      ]
    },
    {
      "cell_type": "markdown",
      "metadata": {},
      "source": [
        "\n# Extend scikit-learn FastICA example to use Icasso\n\nFastICA is fit multiple times to simple example data and performance can be visually inspected.\n"
      ]
    },
    {
      "cell_type": "code",
      "execution_count": null,
      "metadata": {
        "collapsed": false
      },
      "outputs": [],
      "source": [
        "# Authors: Erkka Heinila <erkka.heinila@jyu.fi>\n#\n# License BSD (3-clause)\n\nfrom itertools import cycle\n\nimport numpy as np\nimport matplotlib.pyplot as plt\n\nfrom scipy import signal\n\nfrom sklearn.decomposition import FastICA\nfrom sklearn.decomposition import PCA\n\nfrom icasso import Icasso"
      ]
    },
    {
      "cell_type": "markdown",
      "metadata": {},
      "source": [
        "For replicability\n\n"
      ]
    },
    {
      "cell_type": "code",
      "execution_count": null,
      "metadata": {
        "collapsed": false
      },
      "outputs": [],
      "source": [
        "random_state = 50\ndistance=0.12"
      ]
    },
    {
      "cell_type": "markdown",
      "metadata": {},
      "source": [
        "Generate sample data\n\n"
      ]
    },
    {
      "cell_type": "code",
      "execution_count": null,
      "metadata": {
        "collapsed": false
      },
      "outputs": [],
      "source": [
        "n_samples = 2000\ntime = np.linspace(0, 8, n_samples)\n\ns1 = np.sin(2 * time)  # Signal 1 : sinusoidal signal\ns2 = np.sign(np.sin(3 * time))  # Signal 2 : square signal\ns3 = signal.sawtooth(2 * np.pi * time)  # Signal 3: saw tooth signal\n\nS = np.c_[s1, s2, s3]"
      ]
    },
    {
      "cell_type": "markdown",
      "metadata": {},
      "source": [
        "Add noise and standardize\n\n"
      ]
    },
    {
      "cell_type": "code",
      "execution_count": null,
      "metadata": {
        "collapsed": false
      },
      "outputs": [],
      "source": [
        "S += 0.4 * np.random.RandomState(random_state).normal(size=S.shape)\nS /= S.std(axis=0)"
      ]
    },
    {
      "cell_type": "markdown",
      "metadata": {},
      "source": [
        "Mix data\n\n"
      ]
    },
    {
      "cell_type": "code",
      "execution_count": null,
      "metadata": {
        "collapsed": false
      },
      "outputs": [],
      "source": [
        "A = np.array([[1, 1, 1], [0.5, 2, 1.0], [1.5, 1.0, 2.0]])\nX = np.dot(S, A.T)"
      ]
    },
    {
      "cell_type": "markdown",
      "metadata": {},
      "source": [
        "Define functions for extracting bootstraps and unmixing matrices from ica object\n\n"
      ]
    },
    {
      "cell_type": "code",
      "execution_count": null,
      "metadata": {
        "collapsed": false
      },
      "outputs": [],
      "source": [
        "def bootstrap_fun(data, generator): \n    return data[generator.choice(range(data.shape[0]), size=data.shape[0]), :]\n\ndef unmixing_fun(ica): \n    return ica.components_"
      ]
    },
    {
      "cell_type": "markdown",
      "metadata": {},
      "source": [
        "Create the Icasso object\n\n"
      ]
    },
    {
      "cell_type": "code",
      "execution_count": null,
      "metadata": {
        "collapsed": false
      },
      "outputs": [],
      "source": [
        "ica_params = {\n    'n_components': 3\n}\nicasso = Icasso(FastICA, ica_params=ica_params, iterations=100, bootstrap=True,\n                vary_init=True)"
      ]
    },
    {
      "cell_type": "markdown",
      "metadata": {},
      "source": [
        "Fit the Icasso\n\n"
      ]
    },
    {
      "cell_type": "code",
      "execution_count": null,
      "metadata": {
        "collapsed": false
      },
      "outputs": [],
      "source": [
        "icasso.fit(data=X, fit_params={}, random_state=random_state, \n           bootstrap_fun=bootstrap_fun, unmixing_fun=unmixing_fun)"
      ]
    },
    {
      "cell_type": "markdown",
      "metadata": {},
      "source": [
        "Plot dendrogram\n\n"
      ]
    },
    {
      "cell_type": "code",
      "execution_count": null,
      "metadata": {
        "collapsed": false
      },
      "outputs": [],
      "source": [
        "icasso.plot_dendrogram()"
      ]
    },
    {
      "cell_type": "markdown",
      "metadata": {},
      "source": [
        "Plot mds\n\n"
      ]
    },
    {
      "cell_type": "code",
      "execution_count": null,
      "metadata": {
        "collapsed": false
      },
      "outputs": [],
      "source": [
        "icasso.plot_mds(distance=distance)"
      ]
    },
    {
      "cell_type": "markdown",
      "metadata": {},
      "source": [
        "Get the unmixing matrix and use it get the sources.\n\n"
      ]
    },
    {
      "cell_type": "code",
      "execution_count": null,
      "metadata": {
        "collapsed": false
      },
      "outputs": [],
      "source": [
        "W_, scores = icasso.get_centrotype_unmixing(distance=distance)\nS_ = np.dot(W_, X.T).T\n\n# #############################################################################\n# Plot results\nplt.figure()\n\nmodels = [X, S, S_,]\nnames = ['Observations (mixed signal)',\n         'True Sources',\n         'ICA recovered signals']\n\nfor ii, (model, name) in enumerate(zip(models, names), 1):\n    colors = cycle(['red', 'steelblue', 'orange', 'green', 'yellow'])\n    plt.subplot(4, 1, ii)\n    plt.title(name)\n    for sig, color in zip(model.T, colors):\n        plt.plot(sig, color=color)\n\nplt.subplots_adjust(0.09, 0.04, 0.94, 0.94, 0.26, 0.46)\nplt.show()"
      ]
    }
  ],
  "metadata": {
    "kernelspec": {
      "display_name": "Python 3",
      "language": "python",
      "name": "python3"
    },
    "language_info": {
      "codemirror_mode": {
        "name": "ipython",
        "version": 3
      },
      "file_extension": ".py",
      "mimetype": "text/x-python",
      "name": "python",
      "nbconvert_exporter": "python",
      "pygments_lexer": "ipython3",
      "version": "3.9.9"
    }
  },
  "nbformat": 4,
  "nbformat_minor": 0
}